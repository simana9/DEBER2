{
 "cells": [
  {
   "cell_type": "markdown",
   "id": "39446d68",
   "metadata": {},
   "source": [
    "## <center> Universidad Regional Amazonica Ikiam\n",
    "##  <center> Facultad de ciencias de la Vida\n",
    "## <center> Biotecnología \n",
    "## 6to semestre \n",
    "## Silvana Morocho "
   ]
  }
 ],
 "metadata": {
  "kernelspec": {
   "display_name": "Python 3 (ipykernel)",
   "language": "python",
   "name": "python3"
  },
  "language_info": {
   "codemirror_mode": {
    "name": "ipython",
    "version": 3
   },
   "file_extension": ".py",
   "mimetype": "text/x-python",
   "name": "python",
   "nbconvert_exporter": "python",
   "pygments_lexer": "ipython3",
   "version": "3.9.7"
  }
 },
 "nbformat": 4,
 "nbformat_minor": 5
}
