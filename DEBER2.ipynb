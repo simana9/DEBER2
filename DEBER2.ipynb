{
 "cells": [
  {
   "cell_type": "markdown",
   "id": "0036bbc3",
   "metadata": {},
   "source": [
    "## <center> Universidad Regional Amazonica Ikiam\n",
    "##  <center> Facultad de ciencias de la Vida\n",
    "## <center> Biotecnología \n",
    "## 6to semestre \n",
    "## Silvana Morocho "
   ]
  },
  {
   "cell_type": "code",
   "execution_count": 1,
   "id": "591872eb",
   "metadata": {},
   "outputs": [],
   "source": [
    "import itertools"
   ]
  },
  {
   "cell_type": "code",
   "execution_count": 2,
   "id": "230eea62",
   "metadata": {},
   "outputs": [],
   "source": [
    "import matplotlib.pyplot as plt"
   ]
  },
  {
   "cell_type": "code",
   "execution_count": 4,
   "id": "f825b295",
   "metadata": {},
   "outputs": [],
   "source": [
    "import re"
   ]
  },
  {
   "cell_type": "code",
   "execution_count": 5,
   "id": "a6149479",
   "metadata": {},
   "outputs": [],
   "source": [
    "import csv"
   ]
  },
  {
   "cell_type": "code",
   "execution_count": 6,
   "id": "921ad624",
   "metadata": {},
   "outputs": [],
   "source": [
    "import pandas as pd"
   ]
  },
  {
   "cell_type": "code",
   "execution_count": 9,
   "id": "de98e05f",
   "metadata": {},
   "outputs": [
    {
     "name": "stdout",
     "output_type": "stream",
     "text": [
      "[', Argentina.', ', Canada.', ', France.', ', Germany.', ', Spain.', ', USA.']\n"
     ]
    }
   ],
   "source": [
    "with open ('./PubMed.txt', encoding='utf-8-sig') as f:\n",
    "    datos = f.read()\n",
    "\n",
    "datos = re.sub(r'\\n\\s{6}', ' ', datos)\n",
    "\n",
    "dat = re.findall (r\"\\,\\s[A-Z]+[A-z]{2,11}\\.\", datos)\n",
    "unique_dat = list(set(dat))\n",
    "unique_dat.sort ()\n",
    "print(unique_dat)\n",
    "\n",
    "##No se requiere eliminar archivos ni direcciones no vinculadas a los paises. \n",
    "\n"
   ]
  },
  {
   "cell_type": "code",
   "execution_count": 10,
   "id": "974c5527",
   "metadata": {},
   "outputs": [
    {
     "data": {
      "text/plain": [
       "6"
      ]
     },
     "execution_count": 10,
     "metadata": {},
     "output_type": "execute_result"
    }
   ],
   "source": [
    "len(unique_dat)"
   ]
  },
  {
   "cell_type": "code",
   "execution_count": null,
   "id": "94a5cc9d",
   "metadata": {},
   "outputs": [],
   "source": []
  }
 ],
 "metadata": {
  "kernelspec": {
   "display_name": "Python 3 (ipykernel)",
   "language": "python",
   "name": "python3"
  },
  "language_info": {
   "codemirror_mode": {
    "name": "ipython",
    "version": 3
   },
   "file_extension": ".py",
   "mimetype": "text/x-python",
   "name": "python",
   "nbconvert_exporter": "python",
   "pygments_lexer": "ipython3",
   "version": "3.9.7"
  }
 },
 "nbformat": 4,
 "nbformat_minor": 5
}
